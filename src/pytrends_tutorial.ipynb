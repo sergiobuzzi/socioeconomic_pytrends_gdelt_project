{
  "nbformat": 4,
  "nbformat_minor": 0,
  "metadata": {
    "colab": {
      "name": "pytrends_tutorial.ipynb",
      "provenance": []
    },
    "kernelspec": {
      "name": "python3",
      "display_name": "Python 3"
    }
  },
  "cells": [
    {
      "cell_type": "markdown",
      "metadata": {
        "id": "Q2nnvFqv0InX",
        "colab_type": "text"
      },
      "source": [
        "**THE** tutorial: https://searchengineland.com/learn-how-to-chart-and-track-google-trends-in-data-studio-using-python-329119\n",
        "\n",
        "**THE** notebook (I copied everything from here): https://github.com/hulyacobans/google-trends-to-sheets/blob/master/pytrends-to-sheets.ipynb\n",
        "\n",
        "---------------------\n",
        "\n",
        "**- All functions:**        https://github.com/GeneralMills/pytrends\n",
        "\n",
        "**- All topics:** https://github.com/GeneralMills/pytrends\n",
        "\n",
        "**- Suggested keywords**\n",
        "\n",
        "**- Related quereis** (useful for Google Ads)\n",
        "\n",
        "**- Tracking lots of keywords**\n",
        "\n",
        "- Connecting Jupyter Notebook to Google Spreadsheets with gspread library\n",
        "\n",
        "- Importing data into Google Data Studio\n",
        "\n",
        "- Tracking rising keywords\n",
        "-----------------------\n",
        "Other cool info to check out:\n",
        "\n",
        "- https://medium.com/@yanweiliu/getting-the-google-trends-data-with-python-67b335e7d1cf\n",
        "\n",
        "- https://github.com/GeneralMills/pytrends/blob/master/examples/example.py\n",
        "\n",
        "- basic tutorial for bigquery with python https://blog.morizyun.com/python/library-bigquery-google-cloud.html#Insert-rows\n",
        "\n",
        "- https://towardsdatascience.com/google-trends-api-for-python-a84bc25db88f\n",
        "\n",
        "  "
      ]
    },
    {
      "cell_type": "code",
      "metadata": {
        "id": "xRiMsUMfzDkj",
        "colab_type": "code",
        "colab": {
          "base_uri": "https://localhost:8080/",
          "height": 371
        },
        "outputId": "dc6af1d4-be1b-446f-ea97-3e16b194e70e"
      },
      "source": [
        "pip install pytrends"
      ],
      "execution_count": 1,
      "outputs": [
        {
          "output_type": "stream",
          "text": [
            "Collecting pytrends\n",
            "  Downloading https://files.pythonhosted.org/packages/74/a4/c1b1242be7d31650c6d9128a776c753db18f0e83290aaea0dd80dd31374b/pytrends-4.7.2.tar.gz\n",
            "Requirement already satisfied: requests in /usr/local/lib/python3.6/dist-packages (from pytrends) (2.21.0)\n",
            "Requirement already satisfied: pandas in /usr/local/lib/python3.6/dist-packages (from pytrends) (0.25.3)\n",
            "Requirement already satisfied: lxml in /usr/local/lib/python3.6/dist-packages (from pytrends) (4.2.6)\n",
            "Requirement already satisfied: chardet<3.1.0,>=3.0.2 in /usr/local/lib/python3.6/dist-packages (from requests->pytrends) (3.0.4)\n",
            "Requirement already satisfied: urllib3<1.25,>=1.21.1 in /usr/local/lib/python3.6/dist-packages (from requests->pytrends) (1.24.3)\n",
            "Requirement already satisfied: certifi>=2017.4.17 in /usr/local/lib/python3.6/dist-packages (from requests->pytrends) (2019.11.28)\n",
            "Requirement already satisfied: idna<2.9,>=2.5 in /usr/local/lib/python3.6/dist-packages (from requests->pytrends) (2.8)\n",
            "Requirement already satisfied: pytz>=2017.2 in /usr/local/lib/python3.6/dist-packages (from pandas->pytrends) (2018.9)\n",
            "Requirement already satisfied: python-dateutil>=2.6.1 in /usr/local/lib/python3.6/dist-packages (from pandas->pytrends) (2.8.1)\n",
            "Requirement already satisfied: numpy>=1.13.3 in /usr/local/lib/python3.6/dist-packages (from pandas->pytrends) (1.18.2)\n",
            "Requirement already satisfied: six>=1.5 in /usr/local/lib/python3.6/dist-packages (from python-dateutil>=2.6.1->pandas->pytrends) (1.12.0)\n",
            "Building wheels for collected packages: pytrends\n",
            "  Building wheel for pytrends (setup.py) ... \u001b[?25l\u001b[?25hdone\n",
            "  Created wheel for pytrends: filename=pytrends-4.7.2-cp36-none-any.whl size=14261 sha256=7e30c33c744563ce5fe1cb7e0c73af0140f523fd228c44274ba0e3a69f6a7ae5\n",
            "  Stored in directory: /root/.cache/pip/wheels/64/ae/af/51d48fbbca0563036c6f80999b7ce3f097fa591fd165047baf\n",
            "Successfully built pytrends\n",
            "Installing collected packages: pytrends\n",
            "Successfully installed pytrends-4.7.2\n"
          ],
          "name": "stdout"
        }
      ]
    },
    {
      "cell_type": "code",
      "metadata": {
        "id": "zR_Wd0QxzE1b",
        "colab_type": "code",
        "colab": {}
      },
      "source": [
        "import pytrends\n",
        "from pytrends.request import TrendReq\n",
        "import pandas as pd\n",
        "import time\n",
        "import datetime\n",
        "from datetime import datetime, date, time"
      ],
      "execution_count": 0,
      "outputs": []
    },
    {
      "cell_type": "code",
      "metadata": {
        "id": "MHUNJZO80F4M",
        "colab_type": "code",
        "colab": {}
      },
      "source": [
        ""
      ],
      "execution_count": 0,
      "outputs": []
    },
    {
      "cell_type": "markdown",
      "metadata": {
        "id": "mIo95hGhzb6r",
        "colab_type": "text"
      },
      "source": [
        "- Write your keywords, decide date range, location and many other things like choosing Youtube or Shopping channel to analyze. In the code below, ‘’today 12-m’’ means one year data. You can narrow your results by specifying location with ‘’geo’.’ "
      ]
    },
    {
      "cell_type": "code",
      "metadata": {
        "id": "Yvy2skQ1zJGc",
        "colab_type": "code",
        "colab": {}
      },
      "source": [
        "pytrend = TrendReq()\n",
        "pytrend.build_payload(kw_list=['tea', 'coffee', 'coke', 'milk', 'water'], timeframe='today 12-m', geo = 'GB')"
      ],
      "execution_count": 0,
      "outputs": []
    },
    {
      "cell_type": "markdown",
      "metadata": {
        "id": "-IrN5_wUzgHT",
        "colab_type": "text"
      },
      "source": [
        "- Let’s say you have a Youtube channel and you only want to see Youtube search trends. Then your code will be like this:"
      ]
    },
    {
      "cell_type": "code",
      "metadata": {
        "id": "qUPFG88XzPPX",
        "colab_type": "code",
        "colab": {
          "base_uri": "https://localhost:8080/",
          "height": 168
        },
        "outputId": "626eb2c8-6bcd-4833-e924-9576b75504ea"
      },
      "source": [
        "pytrend.build_payload(kw_list=['tea', 'coffee', 'coke', 'milk', 'water'], timeframe='today 12-m', geo = 'GB', gprop= youtube)"
      ],
      "execution_count": 4,
      "outputs": [
        {
          "output_type": "error",
          "ename": "NameError",
          "evalue": "ignored",
          "traceback": [
            "\u001b[0;31m---------------------------------------------------------------------------\u001b[0m",
            "\u001b[0;31mNameError\u001b[0m                                 Traceback (most recent call last)",
            "\u001b[0;32m<ipython-input-4-adb235d8d621>\u001b[0m in \u001b[0;36m<module>\u001b[0;34m()\u001b[0m\n\u001b[0;32m----> 1\u001b[0;31m \u001b[0mpytrend\u001b[0m\u001b[0;34m.\u001b[0m\u001b[0mbuild_payload\u001b[0m\u001b[0;34m(\u001b[0m\u001b[0mkw_list\u001b[0m\u001b[0;34m=\u001b[0m\u001b[0;34m[\u001b[0m\u001b[0;34m'tea'\u001b[0m\u001b[0;34m,\u001b[0m \u001b[0;34m'coffee'\u001b[0m\u001b[0;34m,\u001b[0m \u001b[0;34m'coke'\u001b[0m\u001b[0;34m,\u001b[0m \u001b[0;34m'milk'\u001b[0m\u001b[0;34m,\u001b[0m \u001b[0;34m'water'\u001b[0m\u001b[0;34m]\u001b[0m\u001b[0;34m,\u001b[0m \u001b[0mtimeframe\u001b[0m\u001b[0;34m=\u001b[0m\u001b[0;34m'today 12-m'\u001b[0m\u001b[0;34m,\u001b[0m \u001b[0mgeo\u001b[0m \u001b[0;34m=\u001b[0m \u001b[0;34m'GB'\u001b[0m\u001b[0;34m,\u001b[0m \u001b[0mgprop\u001b[0m\u001b[0;34m=\u001b[0m \u001b[0myoutube\u001b[0m\u001b[0;34m)\u001b[0m\u001b[0;34m\u001b[0m\u001b[0;34m\u001b[0m\u001b[0m\n\u001b[0m",
            "\u001b[0;31mNameError\u001b[0m: name 'youtube' is not defined"
          ]
        }
      ]
    },
    {
      "cell_type": "markdown",
      "metadata": {
        "id": "vffIPVNxzykH",
        "colab_type": "text"
      },
      "source": [
        "- if you want to check the \"food&drink\" topic"
      ]
    },
    {
      "cell_type": "code",
      "metadata": {
        "id": "mMRSXFw2zjNx",
        "colab_type": "code",
        "colab": {}
      },
      "source": [
        "pytrend.build_payload(kw_list=['tea', 'coffee', 'coke', 'milk', 'water'], timeframe='today 12-m', geo = 'GB', cat = 71)"
      ],
      "execution_count": 0,
      "outputs": []
    },
    {
      "cell_type": "code",
      "metadata": {
        "id": "a5kLgb-Nz0ZH",
        "colab_type": "code",
        "colab": {}
      },
      "source": [
        "# (By the way, be careful that you cannot write directly more than 5 keywords in here. It will give an error because you can compare only 5 keywords on\n",
        "#  Google Trends. I will use another code to analyze keywords more than 5.)"
      ],
      "execution_count": 0,
      "outputs": []
    },
    {
      "cell_type": "code",
      "metadata": {
        "id": "V7bI4wQx3dxK",
        "colab_type": "code",
        "colab": {
          "base_uri": "https://localhost:8080/",
          "height": 141
        },
        "outputId": "544d7ff5-ea23-4c1b-cb36-bfe91de7edc6"
      },
      "source": [
        "#to get interest over time score, you'll need pytrend.interest_over_time() function.\n",
        "#For more functions, check this: https://github.com/GeneralMills/pytrends\n",
        "interest_over_time_df = pytrend.interest_over_time() \n",
        "print(interest_over_time_df.head())"
      ],
      "execution_count": 8,
      "outputs": [
        {
          "output_type": "stream",
          "text": [
            "            tea  coffee  coke  milk  water isPartial\n",
            "date                                                \n",
            "2019-03-24   85      67     8    37     34     False\n",
            "2019-03-31   72      60     8    36     33     False\n",
            "2019-04-07   71      63     8    38     33     False\n",
            "2019-04-14   68      62     8    35     34     False\n",
            "2019-04-21   64      57     9    35     35     False\n"
          ],
          "name": "stdout"
        }
      ]
    },
    {
      "cell_type": "code",
      "metadata": {
        "id": "wm_sSNVj3g9C",
        "colab_type": "code",
        "colab": {
          "base_uri": "https://localhost:8080/",
          "height": 428
        },
        "outputId": "5a6674ca-afc8-44a0-c7fe-4299547504b9"
      },
      "source": [
        "# Let's draw\n",
        "import matplotlib.pyplot as plt\n",
        "import seaborn as sns\n",
        "sns.set(color_codes=True)\n",
        "dx = interest_over_time_df.plot.line(figsize = (9,6), title = \"Interest Over Time\")\n",
        "dx.set_xlabel('Date')\n",
        "dx.set_ylabel('Trends Index')\n",
        "dx.tick_params(axis='both', which='major', labelsize=13)"
      ],
      "execution_count": 9,
      "outputs": [
        {
          "output_type": "display_data",
          "data": {
            "image/png": "[encoded data removed]",
            "text/plain": [
              "<Figure size 648x432 with 1 Axes>"
            ]
          },
          "metadata": {
            "tags": []
          }
        }
      ]
    },
    {
      "cell_type": "markdown",
      "metadata": {
        "id": "s27NaGrI39FP",
        "colab_type": "text"
      },
      "source": [
        ""
      ]
    },
    {
      "cell_type": "code",
      "metadata": {
        "id": "_5JtG1MD3rvu",
        "colab_type": "code",
        "colab": {
          "base_uri": "https://localhost:8080/",
          "height": 249
        },
        "outputId": "86b4d978-68c7-4c3e-d16f-639e1d65d473"
      },
      "source": [
        "# Suggested keywords\n",
        "#  If you use the suggestion function, it will return with suggested keywords and their ‘’types.’’\n",
        "\n",
        "print(pytrend.suggestions(keyword='search engine land'), '\\n')\n",
        "print(pytrend.suggestions(keyword='amazon'), '\\n')\n",
        "print(pytrend.suggestions(keyword='cats'), '\\n')\n",
        "print(pytrend.suggestions(keyword='macbook pro'), '\\n')\n",
        "print(pytrend.suggestions(keyword='beer'), '\\n')\n",
        "print(pytrend.suggestions(keyword='ikea'), '\\n')"
      ],
      "execution_count": 10,
      "outputs": [
        {
          "output_type": "stream",
          "text": [
            "[{'mid': '/m/0j1rt7p', 'title': 'Search Engine Land', 'type': 'Blog'}] \n",
            "\n",
            "[{'mid': '/m/0mgkg', 'title': 'Amazon.com', 'type': 'E-commerce company'}, {'mid': '/g/11b6x7cx6n', 'title': 'Amazon Prime', 'type': 'Topic'}, {'mid': '/m/0gvlgh', 'title': 'Amazon Prime Video', 'type': 'Television channel'}, {'mid': '/m/0cx4p', 'title': 'Amazon Rainforest', 'type': 'Rainforest in Brazil'}, {'mid': '/m/0sd7', 'title': 'Amazon River', 'type': 'River in South America'}] \n",
            "\n",
            "[{'mid': '/m/01yrx', 'title': 'Cat', 'type': 'Animal'}, {'mid': '/m/0307l', 'title': 'Felidae', 'type': 'Animal'}, {'mid': '/m/03dkx', 'title': 'Geelong Football Club', 'type': 'Football club'}, {'mid': '/m/03npwqv', 'title': 'Catnip', 'type': 'Plants'}, {'mid': '/m/0ht80', 'title': 'Ketchup', 'type': 'Sauce'}] \n",
            "\n",
            "[{'mid': '/m/09tzfp', 'title': 'Apple MacBook Pro', 'type': 'Laptop'}, {'mid': '/g/11bydjm_78', 'title': 'MacBook Pro 13-inch', 'type': 'Laptop'}, {'mid': '/g/11g8lq9vs9', 'title': 'Apple MacBook Pro (13\", 2017, Two Thunderbolt 3 Ports)', 'type': 'Laptop'}, {'mid': '/g/11vtyb0xq', 'title': 'Apple MacBook Pro (13\", Mid 2012)', 'type': 'Laptop'}, {'mid': '/g/11b6skgkgs', 'title': 'Apple MacBook Pro (13\", Early 2011)', 'type': 'Laptop'}] \n",
            "\n",
            "[{'mid': '/m/01599', 'title': 'Beer', 'type': 'Alcoholic drink'}, {'mid': '/m/0159gt', 'title': 'Brewery', 'type': 'Topic'}, {'mid': '/m/068fpk', 'title': 'Drink coaster', 'type': 'Topic'}, {'mid': '/m/0f2nzn', 'title': 'Guinness', 'type': 'Beer'}, {'mid': '/m/01dws', 'title': 'Bear', 'type': 'Animal'}] \n",
            "\n",
            "[{'mid': '/m/03tb1', 'title': 'IKEA', 'type': 'Furniture retail company'}, {'mid': '/g/11f3_5hs9d', 'title': 'IKEA', 'type': 'Topic'}, {'mid': '/g/1tgl6ms0', 'title': 'IKEA', 'type': 'Furniture store in Innaloo, Australia'}, {'mid': '/g/1tdzkk8n', 'title': 'IKEA', 'type': 'Furniture store in Brunnthal, Germany'}, {'mid': '/g/1vhq2ty2', 'title': 'IKEA', 'type': 'Furniture store in Frankfurt, Germany'}] \n",
            "\n"
          ],
          "name": "stdout"
        }
      ]
    },
    {
      "cell_type": "markdown",
      "metadata": {
        "id": "TadEZRn65UpP",
        "colab_type": "text"
      },
      "source": [
        "# Related Queries\n",
        "\n",
        "- it can be really helpful in Google Ads, keyword research and content creation.\n",
        "Let’s check ‘’foundation’’ keyword in the Beauty category and get related keywords.\n",
        "\n",
        "- You will see two parts in the output; top keywords and rising keywords. The value of top keywords shows Google Trends score from 0 to 100. However, the value of rising keywords shows how much interest in the keywords have increased in percentage.\n",
        "\n",
        "If a website sells foundations, it would be great to follow what people are searching for lately, right? These products might be getting popular or reverse, they might have a bad reputation lately and that’s why people might search for them. For instance, noticing this as soon as possible in Google Ads may prevent you from spending excessive amounts of money with no conversion"
      ]
    },
    {
      "cell_type": "code",
      "metadata": {
        "id": "rQelFMTk4Ngu",
        "colab_type": "code",
        "colab": {
          "base_uri": "https://localhost:8080/",
          "height": 919
        },
        "outputId": "a4be0f71-1ea9-4667-a7f1-eae5c9610fcc"
      },
      "source": [
        "# Related Queries\n",
        "\n",
        "# it can be really helpful in Google Ads, keyword research and content creation.\n",
        "# Let’s check ‘’foundation’’ keyword in the Beauty category and get related keywords.\n",
        "\n",
        "pytrend.build_payload(kw_list=['foundation'], geo = 'US', timeframe = 'today 3-m', cat = 44)\n",
        "related_queries= pytrend.related_queries()\n",
        "print(related_queries)"
      ],
      "execution_count": 11,
      "outputs": [
        {
          "output_type": "stream",
          "text": [
            "{'foundation': {'top':                         query  value\n",
            "0             best foundation    100\n",
            "1           foundation makeup     61\n",
            "2           powder foundation     44\n",
            "3                  maybelline     26\n",
            "4       maybelline foundation     24\n",
            "5           liquid foundation     23\n",
            "6            foundation brush     23\n",
            "7             ulta foundation     22\n",
            "8            cream foundation     21\n",
            "9        drugstore foundation     19\n",
            "10         sephora foundation     19\n",
            "11          loreal foundation     18\n",
            "12            face foundation     18\n",
            "13             mac foundation     17\n",
            "14   full coverage foundation     16\n",
            "15   foundation for oily skin     16\n",
            "16            nars foundation     16\n",
            "17           stick foundation     16\n",
            "18    estee lauder foundation     15\n",
            "19     best makeup foundation     14\n",
            "20              it foundation     14\n",
            "21    foundation for dry skin     13\n",
            "22       covergirl foundation     13\n",
            "23  best drugstore foundation     12\n",
            "24           foundation match     12, 'rising':                                          query  value\n",
            "0                   wet n wild dewy foundation  32600\n",
            "1                         best foundation 2020  32550\n",
            "2             estee lauder futurist foundation  12050\n",
            "3               covergirl skin milk foundation   9700\n",
            "4               milani screen queen foundation   6750\n",
            "5              dream radiant liquid foundation    650\n",
            "6                  beauty creations foundation    600\n",
            "7                      becca foundation shades    300\n",
            "8                    mary kay foundation chart    200\n",
            "9                  nyx born to glow foundation    180\n",
            "10  maybelline dream radiant liquid foundation    180\n",
            "11       physicians formula healthy foundation    170\n",
            "12                  morphe fluidity foundation    170\n",
            "13                    younique lace foundation    150\n",
            "14            lancome renergie lift foundation    140\n",
            "15                            becca foundation    140\n",
            "16                             rcma foundation    140\n",
            "17           wet n wild photo focus foundation    130\n",
            "18              best light coverage foundation    130\n",
            "19                  clinique powder foundation    120\n",
            "20                        face tape foundation    120\n",
            "21                         cc cream foundation    110\n",
            "22                       wet n wild foundation    110\n",
            "23                                   findation    110\n",
            "24              how to apply liquid foundation    100}}\n"
          ],
          "name": "stdout"
        }
      ]
    },
    {
      "cell_type": "code",
      "metadata": {
        "id": "fWJhA5H140mj",
        "colab_type": "code",
        "colab": {}
      },
      "source": [
        ""
      ],
      "execution_count": 0,
      "outputs": []
    },
    {
      "cell_type": "markdown",
      "metadata": {
        "id": "2IvyhDhl5uJ6",
        "colab_type": "text"
      },
      "source": [
        "# Tracking lots of keywords\n",
        "\n",
        "Now, I will write a group of random keywords here and get their data. You can also read keywords from a csv or excel file but make sure that its type must be a ‘’list.’’"
      ]
    },
    {
      "cell_type": "code",
      "metadata": {
        "id": "_zquU_BW5zgu",
        "colab_type": "code",
        "colab": {}
      },
      "source": [
        "searches = ['detox', 'water fasting', 'benefits of fasting', 'fasting benefits', \n",
        "            'acidic', 'water diet', 'ozone therapy', 'colon hydrotherapy', 'water fast', \n",
        "            'reflexology', 'balance', 'deep tissue massage', 'cryo', 'healthy body', 'what is detox', \n",
        "            'the truth about cancer', 'dieta', 'reverse diabetes', 'how to reverse diabetes', 'water cleanse', \n",
        "            'can you drink water when fasting', 'water fasting benefits', 'glycemic load', 'anti ageing', \n",
        "            'how to water fast', 'ozone treatment', 'healthy mind', 'can you reverse diabetes', 'anti aging', \n",
        "            'health benefits of fasting', 'hydrocolonic', 'shiatsu massage', 'seaweed wrap', 'shiatsu', \n",
        "            'can you get rid of diabetes', 'how to get rid of diabetes', 'healthy body healthy mind', 'colonic hydrotherapy', \n",
        "            'green detox', 'what is water fasting', '21 day water fast', 'benefits of water fasting', 'cellulite', 'ty bollinger', \n",
        "            'detox diet', 'detox program', 'anti aging treatments', 'ketogenic', 'glycemic index', 'water fasting weight loss', \n",
        "            'keto diet plan', 'acidic symptoms', 'alkaline diet', 'water fasting diet', 'laser therapy', 'anti cellulite massage', \n",
        "            'swedish massage', 'benefit of fasting', 'detox your body', 'colon therapy', 'lifeco', 'reversing diabetes', 'detoxing', \n",
        "            'truth about cancer', 'how to remove acidity from body', '21 day water fast results', 'colon cleanse', 'fasting health benefits', \n",
        "            'antiaging', 'aromatheraphy massage']"
      ],
      "execution_count": 0,
      "outputs": []
    },
    {
      "cell_type": "code",
      "metadata": {
        "id": "834gYtid53PT",
        "colab_type": "code",
        "colab": {}
      },
      "source": [
        "groupkeywords = list(zip(*[iter(searches)]*1))\n",
        "groupkeywords = [list(x) for x in groupkeywords]"
      ],
      "execution_count": 0,
      "outputs": []
    },
    {
      "cell_type": "code",
      "metadata": {
        "id": "mUN3S33z8gN9",
        "colab_type": "code",
        "colab": {
          "base_uri": "https://localhost:8080/",
          "height": 35
        },
        "outputId": "8b3acc14-a302-403d-98e6-76544250b611"
      },
      "source": [
        "groupkeywords[0]\n"
      ],
      "execution_count": 21,
      "outputs": [
        {
          "output_type": "execute_result",
          "data": {
            "text/plain": [
              "['detox']"
            ]
          },
          "metadata": {
            "tags": []
          },
          "execution_count": 21
        }
      ]
    },
    {
      "cell_type": "code",
      "metadata": {
        "id": "p-eNwVoP8gTd",
        "colab_type": "code",
        "colab": {}
      },
      "source": [
        "dicti = {}\n",
        "i = 1\n",
        "for trending in groupkeywords:\n",
        "    pytrend.build_payload(trending, timeframe = 'today 3-m', geo = 'GB', cat = 44)\n",
        "    dicti[i] = pytrend.related_queries()\n",
        "    i+=1"
      ],
      "execution_count": 0,
      "outputs": []
    },
    {
      "cell_type": "code",
      "metadata": {
        "id": "f4xI91gr8gRD",
        "colab_type": "code",
        "colab": {
          "base_uri": "https://localhost:8080/",
          "height": 371
        },
        "outputId": "6cd3c554-5830-47f6-f783-ae2068777e5d"
      },
      "source": [
        "result = pd.concat(dicti, axis=1)\n",
        "result.columns = result.columns.droplevel(0)\n",
        "result = result.drop('isPartial', axis = 1)"
      ],
      "execution_count": 23,
      "outputs": [
        {
          "output_type": "error",
          "ename": "TypeError",
          "evalue": "ignored",
          "traceback": [
            "\u001b[0;31m---------------------------------------------------------------------------\u001b[0m",
            "\u001b[0;31mTypeError\u001b[0m                                 Traceback (most recent call last)",
            "\u001b[0;32m<ipython-input-23-5f898dffd5bb>\u001b[0m in \u001b[0;36m<module>\u001b[0;34m()\u001b[0m\n\u001b[0;32m----> 1\u001b[0;31m \u001b[0mresult\u001b[0m \u001b[0;34m=\u001b[0m \u001b[0mpd\u001b[0m\u001b[0;34m.\u001b[0m\u001b[0mconcat\u001b[0m\u001b[0;34m(\u001b[0m\u001b[0mdicti\u001b[0m\u001b[0;34m,\u001b[0m \u001b[0maxis\u001b[0m\u001b[0;34m=\u001b[0m\u001b[0;36m1\u001b[0m\u001b[0;34m)\u001b[0m\u001b[0;34m\u001b[0m\u001b[0;34m\u001b[0m\u001b[0m\n\u001b[0m\u001b[1;32m      2\u001b[0m \u001b[0mresult\u001b[0m\u001b[0;34m.\u001b[0m\u001b[0mcolumns\u001b[0m \u001b[0;34m=\u001b[0m \u001b[0mresult\u001b[0m\u001b[0;34m.\u001b[0m\u001b[0mcolumns\u001b[0m\u001b[0;34m.\u001b[0m\u001b[0mdroplevel\u001b[0m\u001b[0;34m(\u001b[0m\u001b[0;36m0\u001b[0m\u001b[0;34m)\u001b[0m\u001b[0;34m\u001b[0m\u001b[0;34m\u001b[0m\u001b[0m\n\u001b[1;32m      3\u001b[0m \u001b[0mresult\u001b[0m \u001b[0;34m=\u001b[0m \u001b[0mresult\u001b[0m\u001b[0;34m.\u001b[0m\u001b[0mdrop\u001b[0m\u001b[0;34m(\u001b[0m\u001b[0;34m'isPartial'\u001b[0m\u001b[0;34m,\u001b[0m \u001b[0maxis\u001b[0m \u001b[0;34m=\u001b[0m \u001b[0;36m1\u001b[0m\u001b[0;34m)\u001b[0m\u001b[0;34m\u001b[0m\u001b[0;34m\u001b[0m\u001b[0m\n",
            "\u001b[0;32m/usr/local/lib/python3.6/dist-packages/pandas/core/reshape/concat.py\u001b[0m in \u001b[0;36mconcat\u001b[0;34m(objs, axis, join, join_axes, ignore_index, keys, levels, names, verify_integrity, sort, copy)\u001b[0m\n\u001b[1;32m    253\u001b[0m         \u001b[0mverify_integrity\u001b[0m\u001b[0;34m=\u001b[0m\u001b[0mverify_integrity\u001b[0m\u001b[0;34m,\u001b[0m\u001b[0;34m\u001b[0m\u001b[0;34m\u001b[0m\u001b[0m\n\u001b[1;32m    254\u001b[0m         \u001b[0mcopy\u001b[0m\u001b[0;34m=\u001b[0m\u001b[0mcopy\u001b[0m\u001b[0;34m,\u001b[0m\u001b[0;34m\u001b[0m\u001b[0;34m\u001b[0m\u001b[0m\n\u001b[0;32m--> 255\u001b[0;31m         \u001b[0msort\u001b[0m\u001b[0;34m=\u001b[0m\u001b[0msort\u001b[0m\u001b[0;34m,\u001b[0m\u001b[0;34m\u001b[0m\u001b[0;34m\u001b[0m\u001b[0m\n\u001b[0m\u001b[1;32m    256\u001b[0m     )\n\u001b[1;32m    257\u001b[0m \u001b[0;34m\u001b[0m\u001b[0m\n",
            "\u001b[0;32m/usr/local/lib/python3.6/dist-packages/pandas/core/reshape/concat.py\u001b[0m in \u001b[0;36m__init__\u001b[0;34m(self, objs, axis, join, join_axes, keys, levels, names, ignore_index, verify_integrity, copy, sort)\u001b[0m\n\u001b[1;32m    330\u001b[0m                     \u001b[0;34m\" only Series and DataFrame objs are valid\"\u001b[0m\u001b[0;34m.\u001b[0m\u001b[0mformat\u001b[0m\u001b[0;34m(\u001b[0m\u001b[0mtype\u001b[0m\u001b[0;34m(\u001b[0m\u001b[0mobj\u001b[0m\u001b[0;34m)\u001b[0m\u001b[0;34m)\u001b[0m\u001b[0;34m\u001b[0m\u001b[0;34m\u001b[0m\u001b[0m\n\u001b[1;32m    331\u001b[0m                 )\n\u001b[0;32m--> 332\u001b[0;31m                 \u001b[0;32mraise\u001b[0m \u001b[0mTypeError\u001b[0m\u001b[0;34m(\u001b[0m\u001b[0mmsg\u001b[0m\u001b[0;34m)\u001b[0m\u001b[0;34m\u001b[0m\u001b[0;34m\u001b[0m\u001b[0m\n\u001b[0m\u001b[1;32m    333\u001b[0m \u001b[0;34m\u001b[0m\u001b[0m\n\u001b[1;32m    334\u001b[0m             \u001b[0;31m# consolidate\u001b[0m\u001b[0;34m\u001b[0m\u001b[0;34m\u001b[0m\u001b[0;34m\u001b[0m\u001b[0m\n",
            "\u001b[0;31mTypeError\u001b[0m: cannot concatenate object of type '<class 'dict'>'; only Series and DataFrame objs are valid"
          ]
        }
      ]
    },
    {
      "cell_type": "code",
      "metadata": {
        "id": "uuZHJJbi557b",
        "colab_type": "code",
        "colab": {
          "base_uri": "https://localhost:8080/",
          "height": 416
        },
        "outputId": "51acfdb2-f654-4bbc-a71c-0d34e907a922"
      },
      "source": [
        "result"
      ],
      "execution_count": 24,
      "outputs": [
        {
          "output_type": "execute_result",
          "data": {
            "text/html": [
              "<div>\n",
              "<style scoped>\n",
              "    .dataframe tbody tr th:only-of-type {\n",
              "        vertical-align: middle;\n",
              "    }\n",
              "\n",
              "    .dataframe tbody tr th {\n",
              "        vertical-align: top;\n",
              "    }\n",
              "\n",
              "    .dataframe thead th {\n",
              "        text-align: right;\n",
              "    }\n",
              "</style>\n",
              "<table border=\"1\" class=\"dataframe\">\n",
              "  <thead>\n",
              "    <tr style=\"text-align: right;\">\n",
              "      <th></th>\n",
              "      <th>date</th>\n",
              "      <th>detox</th>\n",
              "    </tr>\n",
              "  </thead>\n",
              "  <tbody>\n",
              "    <tr>\n",
              "      <th>0</th>\n",
              "      <td>2019-12-19</td>\n",
              "      <td>27</td>\n",
              "    </tr>\n",
              "    <tr>\n",
              "      <th>1</th>\n",
              "      <td>2019-12-20</td>\n",
              "      <td>38</td>\n",
              "    </tr>\n",
              "    <tr>\n",
              "      <th>2</th>\n",
              "      <td>2019-12-21</td>\n",
              "      <td>31</td>\n",
              "    </tr>\n",
              "    <tr>\n",
              "      <th>3</th>\n",
              "      <td>2019-12-22</td>\n",
              "      <td>38</td>\n",
              "    </tr>\n",
              "    <tr>\n",
              "      <th>4</th>\n",
              "      <td>2019-12-23</td>\n",
              "      <td>43</td>\n",
              "    </tr>\n",
              "    <tr>\n",
              "      <th>...</th>\n",
              "      <td>...</td>\n",
              "      <td>...</td>\n",
              "    </tr>\n",
              "    <tr>\n",
              "      <th>85</th>\n",
              "      <td>2020-03-13</td>\n",
              "      <td>29</td>\n",
              "    </tr>\n",
              "    <tr>\n",
              "      <th>86</th>\n",
              "      <td>2020-03-14</td>\n",
              "      <td>37</td>\n",
              "    </tr>\n",
              "    <tr>\n",
              "      <th>87</th>\n",
              "      <td>2020-03-15</td>\n",
              "      <td>32</td>\n",
              "    </tr>\n",
              "    <tr>\n",
              "      <th>88</th>\n",
              "      <td>2020-03-16</td>\n",
              "      <td>31</td>\n",
              "    </tr>\n",
              "    <tr>\n",
              "      <th>89</th>\n",
              "      <td>2020-03-17</td>\n",
              "      <td>23</td>\n",
              "    </tr>\n",
              "  </tbody>\n",
              "</table>\n",
              "<p>90 rows × 2 columns</p>\n",
              "</div>"
            ],
            "text/plain": [
              "         date  detox\n",
              "0  2019-12-19     27\n",
              "1  2019-12-20     38\n",
              "2  2019-12-21     31\n",
              "3  2019-12-22     38\n",
              "4  2019-12-23     43\n",
              "..        ...    ...\n",
              "85 2020-03-13     29\n",
              "86 2020-03-14     37\n",
              "87 2020-03-15     32\n",
              "88 2020-03-16     31\n",
              "89 2020-03-17     23\n",
              "\n",
              "[90 rows x 2 columns]"
            ]
          },
          "metadata": {
            "tags": []
          },
          "execution_count": 24
        }
      ]
    },
    {
      "cell_type": "code",
      "metadata": {
        "id": "6MtPY1xG6x8J",
        "colab_type": "code",
        "colab": {
          "base_uri": "https://localhost:8080/",
          "height": 329
        },
        "outputId": "83b5d300-4785-41c9-9d7b-b552e083b8e1"
      },
      "source": [
        "result.reset_index(level=0, inplace=True)\n",
        "pd.melt(result, id_vars='date', value_vars=searches)"
      ],
      "execution_count": 25,
      "outputs": [
        {
          "output_type": "error",
          "ename": "KeyError",
          "evalue": "ignored",
          "traceback": [
            "\u001b[0;31m---------------------------------------------------------------------------\u001b[0m",
            "\u001b[0;31mKeyError\u001b[0m                                  Traceback (most recent call last)",
            "\u001b[0;32m<ipython-input-25-45892410c081>\u001b[0m in \u001b[0;36m<module>\u001b[0;34m()\u001b[0m\n\u001b[1;32m      1\u001b[0m \u001b[0mresult\u001b[0m\u001b[0;34m.\u001b[0m\u001b[0mreset_index\u001b[0m\u001b[0;34m(\u001b[0m\u001b[0mlevel\u001b[0m\u001b[0;34m=\u001b[0m\u001b[0;36m0\u001b[0m\u001b[0;34m,\u001b[0m \u001b[0minplace\u001b[0m\u001b[0;34m=\u001b[0m\u001b[0;32mTrue\u001b[0m\u001b[0;34m)\u001b[0m\u001b[0;34m\u001b[0m\u001b[0;34m\u001b[0m\u001b[0m\n\u001b[0;32m----> 2\u001b[0;31m \u001b[0mpd\u001b[0m\u001b[0;34m.\u001b[0m\u001b[0mmelt\u001b[0m\u001b[0;34m(\u001b[0m\u001b[0mresult\u001b[0m\u001b[0;34m,\u001b[0m \u001b[0mid_vars\u001b[0m\u001b[0;34m=\u001b[0m\u001b[0;34m'date'\u001b[0m\u001b[0;34m,\u001b[0m \u001b[0mvalue_vars\u001b[0m\u001b[0;34m=\u001b[0m\u001b[0msearches\u001b[0m\u001b[0;34m)\u001b[0m\u001b[0;34m\u001b[0m\u001b[0;34m\u001b[0m\u001b[0m\n\u001b[0m",
            "\u001b[0;32m/usr/local/lib/python3.6/dist-packages/pandas/core/reshape/melt.py\u001b[0m in \u001b[0;36mmelt\u001b[0;34m(frame, id_vars, value_vars, var_name, value_name, col_level)\u001b[0m\n\u001b[1;32m     72\u001b[0m                     \u001b[0;34m\"The following 'value_vars' are not present in\"\u001b[0m\u001b[0;34m\u001b[0m\u001b[0;34m\u001b[0m\u001b[0m\n\u001b[1;32m     73\u001b[0m                     \u001b[0;34m\" the DataFrame: {missing}\"\u001b[0m\u001b[0;34m\u001b[0m\u001b[0;34m\u001b[0m\u001b[0m\n\u001b[0;32m---> 74\u001b[0;31m                     \u001b[0;34m\"\"\u001b[0m\u001b[0;34m.\u001b[0m\u001b[0mformat\u001b[0m\u001b[0;34m(\u001b[0m\u001b[0mmissing\u001b[0m\u001b[0;34m=\u001b[0m\u001b[0mlist\u001b[0m\u001b[0;34m(\u001b[0m\u001b[0mmissing\u001b[0m\u001b[0;34m)\u001b[0m\u001b[0;34m)\u001b[0m\u001b[0;34m\u001b[0m\u001b[0;34m\u001b[0m\u001b[0m\n\u001b[0m\u001b[1;32m     75\u001b[0m                 )\n\u001b[1;32m     76\u001b[0m         \u001b[0mframe\u001b[0m \u001b[0;34m=\u001b[0m \u001b[0mframe\u001b[0m\u001b[0;34m.\u001b[0m\u001b[0mloc\u001b[0m\u001b[0;34m[\u001b[0m\u001b[0;34m:\u001b[0m\u001b[0;34m,\u001b[0m \u001b[0mid_vars\u001b[0m \u001b[0;34m+\u001b[0m \u001b[0mvalue_vars\u001b[0m\u001b[0;34m]\u001b[0m\u001b[0;34m\u001b[0m\u001b[0;34m\u001b[0m\u001b[0m\n",
            "\u001b[0;31mKeyError\u001b[0m: \"The following 'value_vars' are not present in the DataFrame: ['21 day water fast', '21 day water fast results', 'acidic', 'acidic symptoms', 'alkaline diet', 'anti ageing', 'anti aging', 'anti aging treatments', 'anti cellulite massage', 'antiaging', 'aromatheraphy massage', 'balance', 'benefit of fasting', 'benefits of fasting', 'benefits of water fasting', 'can you drink water when fasting', 'can you get rid of diabetes', 'can you reverse diabetes', 'cellulite', 'colon cleanse', 'colon hydrotherapy', 'colon therapy', 'colonic hydrotherapy', 'cryo', 'deep tissue massage', 'detox diet', 'detox program', 'detox your body', 'detoxing', 'dieta', 'fasting benefits', 'fasting health benefits', 'glycemic index', 'glycemic load', 'green detox', 'health benefits of fasting', 'healthy body', 'healthy body healthy mind', 'healthy mind', 'how to get rid of diabetes', 'how to remove acidity from body', 'how to reverse diabetes', 'how to water fast', 'hydrocolonic', 'keto diet plan', 'ketogenic', 'laser therapy', 'lifeco', 'ozone therapy', 'ozone treatment', 'reflexology', 'reverse diabetes', 'reversing diabetes', 'seaweed wrap', 'shiatsu', 'shiatsu massage', 'swedish massage', 'the truth about cancer', 'truth about cancer', 'ty bollinger', 'water cleanse', 'water diet', 'water fast', 'water fasting', 'water fasting benefits', 'water fasting diet', 'water fasting weight loss', 'what is detox', 'what is water fasting']\""
          ]
        }
      ]
    },
    {
      "cell_type": "code",
      "metadata": {
        "id": "htk_Xlc88vhI",
        "colab_type": "code",
        "colab": {
          "base_uri": "https://localhost:8080/",
          "height": 203
        },
        "outputId": "c213ee29-e037-4544-8bc0-76e2e3b93552"
      },
      "source": [
        "# trends\n",
        "sh = gc.create('GoogleTrends')\n",
        "wks = gc.open(\"GoogleTrends\").sheet1\n",
        "pandas_to_sheets(result, wks)"
      ],
      "execution_count": 26,
      "outputs": [
        {
          "output_type": "error",
          "ename": "NameError",
          "evalue": "ignored",
          "traceback": [
            "\u001b[0;31m---------------------------------------------------------------------------\u001b[0m",
            "\u001b[0;31mNameError\u001b[0m                                 Traceback (most recent call last)",
            "\u001b[0;32m<ipython-input-26-3af8acb3167d>\u001b[0m in \u001b[0;36m<module>\u001b[0;34m()\u001b[0m\n\u001b[0;32m----> 1\u001b[0;31m \u001b[0msh\u001b[0m \u001b[0;34m=\u001b[0m \u001b[0mgc\u001b[0m\u001b[0;34m.\u001b[0m\u001b[0mcreate\u001b[0m\u001b[0;34m(\u001b[0m\u001b[0;34m'GoogleTrends'\u001b[0m\u001b[0;34m)\u001b[0m\u001b[0;34m\u001b[0m\u001b[0;34m\u001b[0m\u001b[0m\n\u001b[0m\u001b[1;32m      2\u001b[0m \u001b[0mwks\u001b[0m \u001b[0;34m=\u001b[0m \u001b[0mgc\u001b[0m\u001b[0;34m.\u001b[0m\u001b[0mopen\u001b[0m\u001b[0;34m(\u001b[0m\u001b[0;34m\"GoogleTrends\"\u001b[0m\u001b[0;34m)\u001b[0m\u001b[0;34m.\u001b[0m\u001b[0msheet1\u001b[0m\u001b[0;34m\u001b[0m\u001b[0;34m\u001b[0m\u001b[0m\n\u001b[1;32m      3\u001b[0m \u001b[0mpandas_to_sheets\u001b[0m\u001b[0;34m(\u001b[0m\u001b[0mresult\u001b[0m\u001b[0;34m,\u001b[0m \u001b[0mwks\u001b[0m\u001b[0;34m)\u001b[0m\u001b[0;34m\u001b[0m\u001b[0;34m\u001b[0m\u001b[0m\n",
            "\u001b[0;31mNameError\u001b[0m: name 'gc' is not defined"
          ]
        }
      ]
    },
    {
      "cell_type": "code",
      "metadata": {
        "id": "Yk8EBGfA81Vk",
        "colab_type": "code",
        "colab": {
          "base_uri": "https://localhost:8080/",
          "height": 185
        },
        "outputId": "5fd22288-fa52-40f7-b50f-ef45d6a6dcd4"
      },
      "source": [
        "dx.rename(columns={'date': 'Date'}, inplace = True)\n",
        "dx.rename(columns={'variable': 'Query'}, inplace = True)"
      ],
      "execution_count": 27,
      "outputs": [
        {
          "output_type": "error",
          "ename": "AttributeError",
          "evalue": "ignored",
          "traceback": [
            "\u001b[0;31m---------------------------------------------------------------------------\u001b[0m",
            "\u001b[0;31mAttributeError\u001b[0m                            Traceback (most recent call last)",
            "\u001b[0;32m<ipython-input-27-a39093fa2cf7>\u001b[0m in \u001b[0;36m<module>\u001b[0;34m()\u001b[0m\n\u001b[0;32m----> 1\u001b[0;31m \u001b[0mdx\u001b[0m\u001b[0;34m.\u001b[0m\u001b[0mrename\u001b[0m\u001b[0;34m(\u001b[0m\u001b[0mcolumns\u001b[0m\u001b[0;34m=\u001b[0m\u001b[0;34m{\u001b[0m\u001b[0;34m'date'\u001b[0m\u001b[0;34m:\u001b[0m \u001b[0;34m'Date'\u001b[0m\u001b[0;34m}\u001b[0m\u001b[0;34m,\u001b[0m \u001b[0minplace\u001b[0m \u001b[0;34m=\u001b[0m \u001b[0;32mTrue\u001b[0m\u001b[0;34m)\u001b[0m\u001b[0;34m\u001b[0m\u001b[0;34m\u001b[0m\u001b[0m\n\u001b[0m\u001b[1;32m      2\u001b[0m \u001b[0mdx\u001b[0m\u001b[0;34m.\u001b[0m\u001b[0mrename\u001b[0m\u001b[0;34m(\u001b[0m\u001b[0mcolumns\u001b[0m\u001b[0;34m=\u001b[0m\u001b[0;34m{\u001b[0m\u001b[0;34m'variable'\u001b[0m\u001b[0;34m:\u001b[0m \u001b[0;34m'Query'\u001b[0m\u001b[0;34m}\u001b[0m\u001b[0;34m,\u001b[0m \u001b[0minplace\u001b[0m \u001b[0;34m=\u001b[0m \u001b[0;32mTrue\u001b[0m\u001b[0;34m)\u001b[0m\u001b[0;34m\u001b[0m\u001b[0;34m\u001b[0m\u001b[0m\n",
            "\u001b[0;31mAttributeError\u001b[0m: 'AxesSubplot' object has no attribute 'rename'"
          ]
        }
      ]
    },
    {
      "cell_type": "code",
      "metadata": {
        "id": "vbUAJ5HX821n",
        "colab_type": "code",
        "colab": {}
      },
      "source": [
        ""
      ],
      "execution_count": 0,
      "outputs": []
    }
  ]
}